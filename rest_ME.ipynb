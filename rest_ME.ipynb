{
 "cells": [
  {
   "cell_type": "code",
   "execution_count": 1,
   "metadata": {},
   "outputs": [],
   "source": [
    "# scaler = StandardScaler()\n",
    "# # A1 = scaler.fit_transform(D_tra_X)\n",
    "# # A2 = scaler.transform(D_val_X)\n",
    "# # A3 = scaler.transform(D_tar_X)\n",
    "# A1 = D_tra_X.reset_index(drop=True)\n",
    "# A2 = D_val_X.reset_index(drop=True)\n",
    "# A3 = D_tar_X.reset_index(drop=True)\n",
    "\n",
    "# Y1 = np.eye(10)[D_tra_y]\n",
    "# Y2 = np.eye(10)[D_val_y]\n",
    "# Y3 = np.eye(10)[D_tar_y]"
   ]
  },
  {
   "cell_type": "code",
   "execution_count": 2,
   "metadata": {},
   "outputs": [],
   "source": [
    "# ann_model = keras.Sequential([\n",
    "#     layers.Dense(8, activation='relu',input_dim=20),\n",
    "#     layers.BatchNormalization(),\n",
    "#     layers.Dropout(rate=0.3),\n",
    "#     # layers.Dense(16, activation='selu'),\n",
    "#     # layers.BatchNormalization(),\n",
    "#     # layers.Dropout(0.3),\n",
    "#     layers.Dense(10, activation='softmax'),\n",
    "#     layers.Dense(10)\n",
    "# ])\n",
    "\n",
    "# optimizer = keras.optimizers.Adam(learning_rate=0.01)\n",
    "# ann_model.compile(optimizer=optimizer,\n",
    "#               loss = 'categorical_crossentropy',\n",
    "#               metrics=['accuracy']\n",
    "#               )\n",
    "\n",
    "# early_stopping = callbacks.EarlyStopping(\n",
    "#     min_delta=0.001, # minimium amount of change to count as an improvement\n",
    "#     patience=35, # how many epochs to wait before stopping\n",
    "#     restore_best_weights=True,\n",
    "# )\n",
    "# ann_model.fit(A1, Y1, \n",
    "#           validation_data= (A2, Y2),\n",
    "#           epochs=200, batch_size=10, \n",
    "#           callbacks=early_stopping,\n",
    "#           verbose=0\n",
    "#           )\n",
    "\n",
    "# print('Accuracy train: ',ann_model.evaluate(A1, Y1))\n",
    "# print('Accuracy validation: ',ann_model.evaluate(A2, Y2))\n",
    "# print('Accuracy test: ',ann_model.evaluate(A3, Y3))"
   ]
  },
  {
   "cell_type": "code",
   "execution_count": 3,
   "metadata": {},
   "outputs": [],
   "source": [
    "# # Train\n",
    "# APtrain =  pd.DataFrame(xmodel.predict_proba(A1))\n",
    "# BPtrain =  pd.DataFrame(emb_model.predict(B1_padseq))\n",
    "# CPtrain =  pd.DataFrame(rfc_model.predict_proba(C_tra_X))\n",
    "# prob_train = pd.concat([APtrain, BPtrain, CPtrain], axis=1)\n",
    "# prob_train.columns = [i for i in range(30)]\n",
    "\n",
    "# # Validation\n",
    "# APval =  pd.DataFrame(xmodel.predict_proba(A2))\n",
    "# BPval =  pd.DataFrame(emb_model.predict(B2_padseq))\n",
    "# CPval =  pd.DataFrame(rfc_model.predict_proba(C_val_X))\n",
    "# prob_val = pd.concat([APval, BPval, CPval], axis=1)\n",
    "# prob_val.columns = [i for i in range(30)]\n",
    "\n",
    "# # Target\n",
    "# APtarget =  pd.DataFrame(xmodel.predict_proba(A3))\n",
    "# BPtarget =  pd.DataFrame(emb_model.predict(B3_padseq))\n",
    "# CPtarget =  pd.DataFrame(rfc_model.predict_proba(C_tar_X))\n",
    "# prob_target = pd.concat([APtarget, BPtarget, CPtarget], axis=1)\n",
    "# prob_target.columns = [i for i in range(30)]"
   ]
  },
  {
   "cell_type": "code",
   "execution_count": null,
   "metadata": {},
   "outputs": [],
   "source": [
    "# ann_model = keras.Sequential([\n",
    "#     layers.Dense(32, activation='relu',input_dim=30),\n",
    "#     layers.BatchNormalization(),\n",
    "#     layers.Dropout(rate=0.3),\n",
    "#     layers.Dense(64, activation='selu'),\n",
    "#     layers.BatchNormalization(),\n",
    "#     layers.Dropout(0.3),\n",
    "#     layers.Dense(128, activation='relu'),\n",
    "#     layers.BatchNormalization(),\n",
    "#     layers.Dropout(0.3),\n",
    "#     layers.Dense(254, activation='gelu'),\n",
    "#     layers.BatchNormalization(),\n",
    "#     layers.Dropout(0.3),\n",
    "#     layers.Dense(10, activation='softmax'),\n",
    "#     # layers.Dense(10)\n",
    "# ])\n",
    "\n",
    "# optimizer = keras.optimizers.Adam(learning_rate=0.03)\n",
    "# ann_model.compile(optimizer=optimizer,\n",
    "#               loss = 'categorical_crossentropy',\n",
    "#               metrics=['accuracy']\n",
    "#               )\n",
    "\n",
    "# # early_stopping = callbacks.EarlyStopping(\n",
    "# #     min_delta=0.001, # minimium amount of change to count as an improvement\n",
    "# #     patience=100, # how many epochs to wait before stopping\n",
    "# #     restore_best_weights=True,\n",
    "# # )\n",
    "# history = ann_model.fit(prob_train, Y1, \n",
    "#           validation_data= (prob_val, Y2),\n",
    "#           epochs=1000, batch_size=40, \n",
    "#         #   callbacks=early_stopping,\n",
    "#           verbose=1\n",
    "#           )"
   ]
  },
  {
   "cell_type": "code",
   "execution_count": null,
   "metadata": {},
   "outputs": [],
   "source": [
    "# hist = pd.DataFrame(history.history)\n",
    "# hist.head(1)\n",
    "\n",
    "# plt.figure()\n",
    "# plt.plot(hist['accuracy'], label='accuracy')\n",
    "# plt.plot(hist['val_accuracy'], label='val_accuracy')\n",
    "# plt.legend()\n",
    "# plt.show()"
   ]
  },
  {
   "cell_type": "code",
   "execution_count": null,
   "metadata": {},
   "outputs": [],
   "source": []
  },
  {
   "cell_type": "code",
   "execution_count": 4,
   "metadata": {},
   "outputs": [],
   "source": [
    "# def part_A(A,B,C):\n",
    "#     obs_tot_list = []\n",
    "#     for i in range(0,len(A),1):\n",
    "#         ptot_list = []\n",
    "#         for j  in range(0,10,1):\n",
    "#             p1 = A[j][i]\n",
    "#             p2  = B[j][i]\n",
    "#             p3 = C[j][i]\n",
    "#             ptot = sum([p1,p2,p3])\n",
    "#             ptot_list.append(ptot)\n",
    "#         obs_tot_list.append(ptot_list)\n",
    "#     return obs_tot_list\n",
    "    "
   ]
  },
  {
   "cell_type": "code",
   "execution_count": null,
   "metadata": {},
   "outputs": [],
   "source": [
    "# def part_B(P, target, weigths):\n",
    "\n",
    "#     label_list = []\n",
    "#     for i in range(len(P)):\n",
    "#         prob = np.diag(P[i]) @ weigths\n",
    "#         label = np.argmax(prob)\n",
    "#         label_list.append(label)\n",
    "#     score = ACC(label_list, target)\n",
    "#     return [score, weigths]"
   ]
  },
  {
   "cell_type": "code",
   "execution_count": null,
   "metadata": {},
   "outputs": [],
   "source": [
    "# def part_C():    \n",
    "#     score_df = pd.DataFrame()\n",
    "\n",
    "#     scoresTrain = []\n",
    "#     scoresVal = []\n",
    "#     weigths = []\n",
    "#     for i in range(2000):\n",
    "#         w = np.random.dirichlet(np.ones(10),size=1).T\n",
    "\n",
    "#         first = part_A(APtrain, BPtrain, CPtrain)\n",
    "#         second = part_B(first, A_tra_y, w )\n",
    "\n",
    "#         third = part_A(APval, BPval, CPval)\n",
    "#         fourth = part_B(third, C_val_y, w)\n",
    "#         scoresTrain.append(second[0])\n",
    "#         scoresVal.append(fourth[0])\n",
    "#         weigths.append(second[1])\n",
    "#     score_df['scoresTrain'] = scoresTrain\n",
    "#     score_df['scoresVal'] = scoresVal\n",
    "#     score_df['weigths'] = weigths   \n",
    "#     return score_df"
   ]
  },
  {
   "cell_type": "code",
   "execution_count": null,
   "metadata": {},
   "outputs": [],
   "source": [
    "# wackatron = part_C()\n",
    "# wackatron['scoreCommon'] = (wackatron['scoresTrain']+wackatron['scoresVal'])/2\n",
    "# np.where(wackatron['scoreCommon'] == max(wackatron['scoreCommon']))\n",
    "# hotel = part_A(APtarget,BPtarget,CPtarget)\n",
    "# part_B(hotel, A_tar_y, wackatron['weigths'][1])"
   ]
  },
  {
   "cell_type": "code",
   "execution_count": null,
   "metadata": {},
   "outputs": [],
   "source": []
  }
 ],
 "metadata": {
  "kernelspec": {
   "display_name": "base",
   "language": "python",
   "name": "python3"
  },
  "language_info": {
   "codemirror_mode": {
    "name": "ipython",
    "version": 3
   },
   "file_extension": ".py",
   "mimetype": "text/x-python",
   "name": "python",
   "nbconvert_exporter": "python",
   "pygments_lexer": "ipython3",
   "version": "3.11.7"
  }
 },
 "nbformat": 4,
 "nbformat_minor": 2
}
